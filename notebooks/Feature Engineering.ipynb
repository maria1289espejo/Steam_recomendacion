{
 "cells": [
  {
   "cell_type": "code",
   "execution_count": 1,
   "metadata": {},
   "outputs": [],
   "source": [
    "#Bibliotecas a utlizar\n",
    "import pandas as pd\n",
    "from textblob import TextBlob\n",
    "from nltk.sentiment import SentimentIntensityAnalyzer"
   ]
  },
  {
   "cell_type": "code",
   "execution_count": 2,
   "metadata": {},
   "outputs": [],
   "source": [
    "# Carga el conjunto de datos\n",
    "df_reviews_clean = pd.read_parquet('C:/Users/57315/OneDrive/Documentos/Phyton_Henry/proyecto individual 1/PI MLOps - STEAM/datasets_limpios/df_reviews_clean.parquet.gzip')"
   ]
  },
  {
   "cell_type": "code",
   "execution_count": 3,
   "metadata": {},
   "outputs": [],
   "source": [
    "\n",
    "# Función para realizar el análisis de sentimiento y asignar el valor correspondiente\n",
    "def analyze_sentiment(review):\n",
    "    if pd.isnull(review):\n",
    "        return 1  # Valor 1 para reseñas sin contenido\n",
    "    else:\n",
    "        # Utiliza TextBlob para análisis de sentimiento\n",
    "        blob = TextBlob(review)\n",
    "        polarity = blob.sentiment.polarity\n",
    "\n",
    "        # Asigna valor según la polaridad\n",
    "        if polarity < 0:\n",
    "            return 0  # Valor 0 para reseñas negativas\n",
    "        elif polarity == 0:\n",
    "            return 1  # Valor 1 para reseñas neutrales\n",
    "        else:\n",
    "            return 2  # Valor 2 para reseñas positivas"
   ]
  },
  {
   "cell_type": "code",
   "execution_count": 4,
   "metadata": {},
   "outputs": [],
   "source": [
    "# Aplica la función a la columna 'review'\n",
    "df_reviews_clean['sentiment_analysis'] = df_reviews_clean['review'].apply(analyze_sentiment)\n"
   ]
  },
  {
   "cell_type": "code",
   "execution_count": 5,
   "metadata": {},
   "outputs": [
    {
     "name": "stdout",
     "output_type": "stream",
     "text": [
      "                                              review  sentiment_analysis\n",
      "0  Simple yet with great replayability. In my opi...                   2\n",
      "0               It's unique and worth a playthrough.                   2\n",
      "0  Great atmosphere. The gunplay can be a bit chu...                   2\n",
      "1  I know what you think when you see this title ...                   2\n",
      "1  For a simple (it's actually not all that simpl...                   0\n"
     ]
    }
   ],
   "source": [
    "\n",
    "# Muestra algunas filas del dataFrame con la nueva columna\n",
    "print(df_reviews_clean[['review', 'sentiment_analysis']].head())\n"
   ]
  },
  {
   "cell_type": "code",
   "execution_count": 6,
   "metadata": {},
   "outputs": [],
   "source": [
    "#Elimina la columna review\n",
    "df_reviews_clean = df_reviews_clean.drop(columns=['review'])"
   ]
  },
  {
   "cell_type": "code",
   "execution_count": 7,
   "metadata": {},
   "outputs": [],
   "source": [
    "#Genera nuevo archivo a partir de un dataframe\n",
    "df_reviews_clean.to_parquet('C:/Users/57315/OneDrive/Documentos/Phyton_Henry/proyecto individual 1/PI MLOps - STEAM/datasets_limpios/df_reviews_sentiment.parquet.gzip', compression='gzip')"
   ]
  }
 ],
 "metadata": {
  "kernelspec": {
   "display_name": "Python 3",
   "language": "python",
   "name": "python3"
  },
  "language_info": {
   "codemirror_mode": {
    "name": "ipython",
    "version": 3
   },
   "file_extension": ".py",
   "mimetype": "text/x-python",
   "name": "python",
   "nbconvert_exporter": "python",
   "pygments_lexer": "ipython3",
   "version": "3.10.4"
  }
 },
 "nbformat": 4,
 "nbformat_minor": 2
}

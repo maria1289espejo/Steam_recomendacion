{
 "cells": [
  {
   "cell_type": "code",
   "execution_count": 1,
   "metadata": {},
   "outputs": [],
   "source": [
    "#Bibliotecas a utlizar\n",
    "import pandas as pd\n",
    "from textblob import TextBlob\n",
    "from nltk.sentiment import SentimentIntensityAnalyzer"
   ]
  },
  {
   "cell_type": "code",
   "execution_count": 2,
   "metadata": {},
   "outputs": [],
   "source": [
    "# Carga el conjunto de datos\n",
    "df_reviews_clean = pd.read_parquet('C:/Users/57315/OneDrive/Documentos/Phyton_Henry/proyecto individual 1/PI MLOps - STEAM/datasets_limpios/df_reviews_clean.parquet.gzip')"
   ]
  },
  {
   "cell_type": "code",
   "execution_count": 3,
   "metadata": {},
   "outputs": [],
   "source": [
    "\n",
    "# Función para realizar el análisis de sentimiento y asignar el valor correspondiente\n",
    "def analyze_sentiment(review):\n",
    "    if pd.isnull(review):\n",
    "        return 1  # Valor 1 para reseñas sin contenido\n",
    "    else:\n",
    "        # Utiliza TextBlob para análisis de sentimiento\n",
    "        blob = TextBlob(review)\n",
    "        polarity = blob.sentiment.polarity\n",
    "\n",
    "        # Asigna valor según la polaridad\n",
    "        if polarity < 0:\n",
    "            return 0  # Valor 0 para reseñas negativas\n",
    "        elif polarity == 0:\n",
    "            return 1  # Valor 1 para reseñas neutrales\n",
    "        else:\n",
    "            return 2  # Valor 2 para reseñas positivas"
   ]
  },
  {
   "cell_type": "code",
   "execution_count": 5,
   "metadata": {},
   "outputs": [
    {
     "name": "stdout",
     "output_type": "stream",
     "text": [
      "                                              review  sentiment_analysis\n",
      "0  Simple yet with great replayability. In my opi...                   2\n",
      "0               It's unique and worth a playthrough.                   2\n",
      "0  Great atmosphere. The gunplay can be a bit chu...                   2\n",
      "1  I know what you think when you see this title ...                   2\n",
      "1  For a simple (it's actually not all that simpl...                   0\n"
     ]
    }
   ],
   "source": [
    "# Aplica la función a la columna 'review'\n",
    "df_reviews_clean['sentiment_analysis'] = df_reviews_clean['review'].apply(analyze_sentiment)\n"
   ]
  },
  {
   "cell_type": "code",
   "execution_count": 13,
   "metadata": {},
   "outputs": [
    {
     "name": "stdout",
     "output_type": "stream",
     "text": [
      "                                              review  sentiment_analysis\n",
      "0  Simple yet with great replayability. In my opi...                   2\n",
      "0               It's unique and worth a playthrough.                   2\n",
      "0  Great atmosphere. The gunplay can be a bit chu...                   2\n",
      "1  I know what you think when you see this title ...                   2\n",
      "1  For a simple (it's actually not all that simpl...                   0\n"
     ]
    }
   ],
   "source": [
    "\n",
    "# Muestra algunas filas del dataFrame con la nueva columna\n",
    "print(df_reviews_clean[['review', 'sentiment_analysis']].head())\n"
   ]
  },
  {
   "cell_type": "code",
   "execution_count": 15,
   "metadata": {},
   "outputs": [
    {
     "data": {
      "text/html": [
       "<div>\n",
       "<style scoped>\n",
       "    .dataframe tbody tr th:only-of-type {\n",
       "        vertical-align: middle;\n",
       "    }\n",
       "\n",
       "    .dataframe tbody tr th {\n",
       "        vertical-align: top;\n",
       "    }\n",
       "\n",
       "    .dataframe thead th {\n",
       "        text-align: right;\n",
       "    }\n",
       "</style>\n",
       "<table border=\"1\" class=\"dataframe\">\n",
       "  <thead>\n",
       "    <tr style=\"text-align: right;\">\n",
       "      <th></th>\n",
       "      <th>posted</th>\n",
       "      <th>last_edited</th>\n",
       "      <th>item_id</th>\n",
       "      <th>recommend</th>\n",
       "      <th>user_id</th>\n",
       "      <th>sentiment_analysis</th>\n",
       "    </tr>\n",
       "  </thead>\n",
       "  <tbody>\n",
       "    <tr>\n",
       "      <th>0</th>\n",
       "      <td>2011-11-05</td>\n",
       "      <td>None</td>\n",
       "      <td>1250</td>\n",
       "      <td>True</td>\n",
       "      <td>76561197970982479</td>\n",
       "      <td>2</td>\n",
       "    </tr>\n",
       "    <tr>\n",
       "      <th>0</th>\n",
       "      <td>2011-07-15</td>\n",
       "      <td>None</td>\n",
       "      <td>22200</td>\n",
       "      <td>True</td>\n",
       "      <td>76561197970982479</td>\n",
       "      <td>2</td>\n",
       "    </tr>\n",
       "    <tr>\n",
       "      <th>0</th>\n",
       "      <td>2011-04-21</td>\n",
       "      <td>None</td>\n",
       "      <td>43110</td>\n",
       "      <td>True</td>\n",
       "      <td>76561197970982479</td>\n",
       "      <td>2</td>\n",
       "    </tr>\n",
       "    <tr>\n",
       "      <th>1</th>\n",
       "      <td>2014-06-24</td>\n",
       "      <td>None</td>\n",
       "      <td>251610</td>\n",
       "      <td>True</td>\n",
       "      <td>js41637</td>\n",
       "      <td>2</td>\n",
       "    </tr>\n",
       "    <tr>\n",
       "      <th>1</th>\n",
       "      <td>2013-09-08</td>\n",
       "      <td>None</td>\n",
       "      <td>227300</td>\n",
       "      <td>True</td>\n",
       "      <td>js41637</td>\n",
       "      <td>0</td>\n",
       "    </tr>\n",
       "  </tbody>\n",
       "</table>\n",
       "</div>"
      ],
      "text/plain": [
       "       posted last_edited  item_id recommend            user_id  \\\n",
       "0  2011-11-05        None     1250      True  76561197970982479   \n",
       "0  2011-07-15        None    22200      True  76561197970982479   \n",
       "0  2011-04-21        None    43110      True  76561197970982479   \n",
       "1  2014-06-24        None   251610      True            js41637   \n",
       "1  2013-09-08        None   227300      True            js41637   \n",
       "\n",
       "   sentiment_analysis  \n",
       "0                   2  \n",
       "0                   2  \n",
       "0                   2  \n",
       "1                   2  \n",
       "1                   0  "
      ]
     },
     "execution_count": 15,
     "metadata": {},
     "output_type": "execute_result"
    }
   ],
   "source": [
    "#Elimina la columna review\n",
    "df_reviews_clean = df_reviews_clean.drop(columns=['review'])"
   ]
  },
  {
   "cell_type": "code",
   "execution_count": 16,
   "metadata": {},
   "outputs": [],
   "source": [
    "#Genera nuevo archivo a partir de un dataframe\n",
    "df_reviews_clean.to_parquet('C:/Users/57315/OneDrive/Documentos/Phyton_Henry/proyecto individual 1/PI MLOps - STEAM/datasets_limpios/df_reviews_sentiment.parquet.gzip', compression='gzip')"
   ]
  }
 ],
 "metadata": {
  "kernelspec": {
   "display_name": "Python 3",
   "language": "python",
   "name": "python3"
  },
  "language_info": {
   "codemirror_mode": {
    "name": "ipython",
    "version": 3
   },
   "file_extension": ".py",
   "mimetype": "text/x-python",
   "name": "python",
   "nbconvert_exporter": "python",
   "pygments_lexer": "ipython3",
   "version": "3.10.4"
  }
 },
 "nbformat": 4,
 "nbformat_minor": 2
}

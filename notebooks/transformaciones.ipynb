{
 "cells": [
  {
   "cell_type": "markdown",
   "metadata": {},
   "source": [
    "# Transformaciones\n"
   ]
  },
  {
   "cell_type": "markdown",
   "metadata": {},
   "source": [
    "## Librerias a utilizar"
   ]
  },
  {
   "cell_type": "code",
   "execution_count": 1,
   "metadata": {},
   "outputs": [],
   "source": [
    "import dask\n",
    "import dask.dataframe as dd\n",
    "import pandas as pd\n",
    "import pyarrow.json\n",
    "import gzip\n",
    "import json\n",
    "import ast"
   ]
  },
  {
   "cell_type": "markdown",
   "metadata": {},
   "source": [
    "## Descompresión y limpieza de datasets"
   ]
  },
  {
   "cell_type": "markdown",
   "metadata": {},
   "source": [
    "### steam_games"
   ]
  },
  {
   "cell_type": "code",
   "execution_count": 3,
   "metadata": {},
   "outputs": [
    {
     "data": {
      "text/html": [
       "<div>\n",
       "<style scoped>\n",
       "    .dataframe tbody tr th:only-of-type {\n",
       "        vertical-align: middle;\n",
       "    }\n",
       "\n",
       "    .dataframe tbody tr th {\n",
       "        vertical-align: top;\n",
       "    }\n",
       "\n",
       "    .dataframe thead th {\n",
       "        text-align: right;\n",
       "    }\n",
       "</style>\n",
       "<table border=\"1\" class=\"dataframe\">\n",
       "  <thead>\n",
       "    <tr style=\"text-align: right;\">\n",
       "      <th></th>\n",
       "      <th>publisher</th>\n",
       "      <th>genres</th>\n",
       "      <th>app_name</th>\n",
       "      <th>title</th>\n",
       "      <th>url</th>\n",
       "      <th>release_date</th>\n",
       "      <th>tags</th>\n",
       "      <th>reviews_url</th>\n",
       "      <th>specs</th>\n",
       "      <th>price</th>\n",
       "      <th>early_access</th>\n",
       "      <th>id</th>\n",
       "      <th>developer</th>\n",
       "    </tr>\n",
       "  </thead>\n",
       "  <tbody>\n",
       "    <tr>\n",
       "      <th>88310</th>\n",
       "      <td>Kotoshiro</td>\n",
       "      <td>['Action', 'Casual', 'Indie', 'Simulation', 'S...</td>\n",
       "      <td>Lost Summoner Kitty</td>\n",
       "      <td>Lost Summoner Kitty</td>\n",
       "      <td>http://store.steampowered.com/app/761140/Lost_...</td>\n",
       "      <td>2018-01-04</td>\n",
       "      <td>['Strategy', 'Action', 'Indie', 'Casual', 'Sim...</td>\n",
       "      <td>http://steamcommunity.com/app/761140/reviews/?...</td>\n",
       "      <td>['Single-player']</td>\n",
       "      <td>4.99</td>\n",
       "      <td>0.0</td>\n",
       "      <td>761140.0</td>\n",
       "      <td>Kotoshiro</td>\n",
       "    </tr>\n",
       "    <tr>\n",
       "      <th>88311</th>\n",
       "      <td>Making Fun, Inc.</td>\n",
       "      <td>['Free to Play', 'Indie', 'RPG', 'Strategy']</td>\n",
       "      <td>Ironbound</td>\n",
       "      <td>Ironbound</td>\n",
       "      <td>http://store.steampowered.com/app/643980/Ironb...</td>\n",
       "      <td>2018-01-04</td>\n",
       "      <td>['Free to Play', 'Strategy', 'Indie', 'RPG', '...</td>\n",
       "      <td>http://steamcommunity.com/app/643980/reviews/?...</td>\n",
       "      <td>['Single-player', 'Multi-player', 'Online Mult...</td>\n",
       "      <td>Free To Play</td>\n",
       "      <td>0.0</td>\n",
       "      <td>643980.0</td>\n",
       "      <td>Secret Level SRL</td>\n",
       "    </tr>\n",
       "    <tr>\n",
       "      <th>88312</th>\n",
       "      <td>Poolians.com</td>\n",
       "      <td>['Casual', 'Free to Play', 'Indie', 'Simulatio...</td>\n",
       "      <td>Real Pool 3D - Poolians</td>\n",
       "      <td>Real Pool 3D - Poolians</td>\n",
       "      <td>http://store.steampowered.com/app/670290/Real_...</td>\n",
       "      <td>2017-07-24</td>\n",
       "      <td>['Free to Play', 'Simulation', 'Sports', 'Casu...</td>\n",
       "      <td>http://steamcommunity.com/app/670290/reviews/?...</td>\n",
       "      <td>['Single-player', 'Multi-player', 'Online Mult...</td>\n",
       "      <td>Free to Play</td>\n",
       "      <td>0.0</td>\n",
       "      <td>670290.0</td>\n",
       "      <td>Poolians.com</td>\n",
       "    </tr>\n",
       "    <tr>\n",
       "      <th>88313</th>\n",
       "      <td>彼岸领域</td>\n",
       "      <td>['Action', 'Adventure', 'Casual']</td>\n",
       "      <td>弹炸人2222</td>\n",
       "      <td>弹炸人2222</td>\n",
       "      <td>http://store.steampowered.com/app/767400/2222/</td>\n",
       "      <td>2017-12-07</td>\n",
       "      <td>['Action', 'Adventure', 'Casual']</td>\n",
       "      <td>http://steamcommunity.com/app/767400/reviews/?...</td>\n",
       "      <td>['Single-player']</td>\n",
       "      <td>0.99</td>\n",
       "      <td>0.0</td>\n",
       "      <td>767400.0</td>\n",
       "      <td>彼岸领域</td>\n",
       "    </tr>\n",
       "    <tr>\n",
       "      <th>88314</th>\n",
       "      <td>&lt;NA&gt;</td>\n",
       "      <td>&lt;NA&gt;</td>\n",
       "      <td>Log Challenge</td>\n",
       "      <td>&lt;NA&gt;</td>\n",
       "      <td>http://store.steampowered.com/app/773570/Log_C...</td>\n",
       "      <td>&lt;NA&gt;</td>\n",
       "      <td>['Action', 'Indie', 'Casual', 'Sports']</td>\n",
       "      <td>http://steamcommunity.com/app/773570/reviews/?...</td>\n",
       "      <td>['Single-player', 'Full controller support', '...</td>\n",
       "      <td>2.99</td>\n",
       "      <td>0.0</td>\n",
       "      <td>773570.0</td>\n",
       "      <td>&lt;NA&gt;</td>\n",
       "    </tr>\n",
       "  </tbody>\n",
       "</table>\n",
       "</div>"
      ],
      "text/plain": [
       "              publisher                                             genres  \\\n",
       "88310         Kotoshiro  ['Action', 'Casual', 'Indie', 'Simulation', 'S...   \n",
       "88311  Making Fun, Inc.       ['Free to Play', 'Indie', 'RPG', 'Strategy']   \n",
       "88312      Poolians.com  ['Casual', 'Free to Play', 'Indie', 'Simulatio...   \n",
       "88313              彼岸领域                  ['Action', 'Adventure', 'Casual']   \n",
       "88314              <NA>                                               <NA>   \n",
       "\n",
       "                      app_name                    title  \\\n",
       "88310      Lost Summoner Kitty      Lost Summoner Kitty   \n",
       "88311                Ironbound                Ironbound   \n",
       "88312  Real Pool 3D - Poolians  Real Pool 3D - Poolians   \n",
       "88313                  弹炸人2222                  弹炸人2222   \n",
       "88314            Log Challenge                     <NA>   \n",
       "\n",
       "                                                     url release_date  \\\n",
       "88310  http://store.steampowered.com/app/761140/Lost_...   2018-01-04   \n",
       "88311  http://store.steampowered.com/app/643980/Ironb...   2018-01-04   \n",
       "88312  http://store.steampowered.com/app/670290/Real_...   2017-07-24   \n",
       "88313     http://store.steampowered.com/app/767400/2222/   2017-12-07   \n",
       "88314  http://store.steampowered.com/app/773570/Log_C...         <NA>   \n",
       "\n",
       "                                                    tags  \\\n",
       "88310  ['Strategy', 'Action', 'Indie', 'Casual', 'Sim...   \n",
       "88311  ['Free to Play', 'Strategy', 'Indie', 'RPG', '...   \n",
       "88312  ['Free to Play', 'Simulation', 'Sports', 'Casu...   \n",
       "88313                  ['Action', 'Adventure', 'Casual']   \n",
       "88314            ['Action', 'Indie', 'Casual', 'Sports']   \n",
       "\n",
       "                                             reviews_url  \\\n",
       "88310  http://steamcommunity.com/app/761140/reviews/?...   \n",
       "88311  http://steamcommunity.com/app/643980/reviews/?...   \n",
       "88312  http://steamcommunity.com/app/670290/reviews/?...   \n",
       "88313  http://steamcommunity.com/app/767400/reviews/?...   \n",
       "88314  http://steamcommunity.com/app/773570/reviews/?...   \n",
       "\n",
       "                                                   specs         price  \\\n",
       "88310                                  ['Single-player']          4.99   \n",
       "88311  ['Single-player', 'Multi-player', 'Online Mult...  Free To Play   \n",
       "88312  ['Single-player', 'Multi-player', 'Online Mult...  Free to Play   \n",
       "88313                                  ['Single-player']          0.99   \n",
       "88314  ['Single-player', 'Full controller support', '...          2.99   \n",
       "\n",
       "       early_access        id         developer  \n",
       "88310           0.0  761140.0         Kotoshiro  \n",
       "88311           0.0  643980.0  Secret Level SRL  \n",
       "88312           0.0  670290.0      Poolians.com  \n",
       "88313           0.0  767400.0              彼岸领域  \n",
       "88314           0.0  773570.0              <NA>  "
      ]
     },
     "execution_count": 3,
     "metadata": {},
     "output_type": "execute_result"
    }
   ],
   "source": [
    "# Ruta del archivo comprimido\n",
    "comprimido_games = 'C:/Users/57315/OneDrive/Documentos/Phyton_Henry/proyecto individual 1/PI MLOps - STEAM/datasets_iniciales/steam_games.json.gz'\n",
    "\n",
    "# Lee el archivo JSON comprimido por lotes\n",
    "df_games = dd.read_json(comprimido_games, compression='gzip', blocksize=None)\n",
    "\n",
    "#Elimina las filas que tienen datos nulos en todas sus columnas\n",
    "df_games = df_games.dropna(how='all')\n",
    "\n",
    "# Computa y muestra el resultado\n",
    "df_games.head()"
   ]
  },
  {
   "cell_type": "code",
   "execution_count": 4,
   "metadata": {},
   "outputs": [],
   "source": [
    "#Elimina las columnas que no necesitan para responder las consultas o preparar los modelos \n",
    "#de aprendizaje automático\n",
    "df_games = df_games.drop(columns=['publisher', 'app_name', 'url', 'tags', 'reviews_url', \n",
    "                                  'specs', 'price', 'early_access', 'developer'])"
   ]
  },
  {
   "cell_type": "code",
   "execution_count": 5,
   "metadata": {},
   "outputs": [
    {
     "name": "stdout",
     "output_type": "stream",
     "text": [
      "Columnas con todos los valores nulos: Index([], dtype='string')\n"
     ]
    }
   ],
   "source": [
    "# Verifica las celdas con valores nulos\n",
    "nulos_por_celda_games = df_games.isnull()\n",
    "\n",
    "# Verifica si todas las celdas de cada columna son nulas\n",
    "columnas_con_nulos_games = nulos_por_celda_games.all()\n",
    "\n",
    "# Obtiene el nombre de las columnas con todos los valores nulos\n",
    "columnas_con_todos_nulos_games = columnas_con_nulos_games[columnas_con_nulos_games].index.compute()\n",
    "\n",
    "# Muestra las columnas con todos los valores nulos\n",
    "print(\"Columnas con todos los valores nulos:\", columnas_con_todos_nulos_games)"
   ]
  },
  {
   "cell_type": "code",
   "execution_count": 6,
   "metadata": {},
   "outputs": [],
   "source": [
    "#Elimina las filas duplicadas\n",
    "df_games = df_games.drop_duplicates()"
   ]
  },
  {
   "cell_type": "code",
   "execution_count": 7,
   "metadata": {},
   "outputs": [
    {
     "data": {
      "text/html": [
       "<div>\n",
       "<style scoped>\n",
       "    .dataframe tbody tr th:only-of-type {\n",
       "        vertical-align: middle;\n",
       "    }\n",
       "\n",
       "    .dataframe tbody tr th {\n",
       "        vertical-align: top;\n",
       "    }\n",
       "\n",
       "    .dataframe thead th {\n",
       "        text-align: right;\n",
       "    }\n",
       "</style>\n",
       "<table border=\"1\" class=\"dataframe\">\n",
       "  <thead>\n",
       "    <tr style=\"text-align: right;\">\n",
       "      <th></th>\n",
       "      <th>genres</th>\n",
       "      <th>title</th>\n",
       "      <th>release_date</th>\n",
       "      <th>id</th>\n",
       "    </tr>\n",
       "  </thead>\n",
       "  <tbody>\n",
       "    <tr>\n",
       "      <th>88310</th>\n",
       "      <td>['Action', 'Casual', 'Indie', 'Simulation', 'S...</td>\n",
       "      <td>Lost Summoner Kitty</td>\n",
       "      <td>2018-01-04</td>\n",
       "      <td>761140.0</td>\n",
       "    </tr>\n",
       "    <tr>\n",
       "      <th>88311</th>\n",
       "      <td>['Free to Play', 'Indie', 'RPG', 'Strategy']</td>\n",
       "      <td>Ironbound</td>\n",
       "      <td>2018-01-04</td>\n",
       "      <td>643980.0</td>\n",
       "    </tr>\n",
       "    <tr>\n",
       "      <th>88312</th>\n",
       "      <td>['Casual', 'Free to Play', 'Indie', 'Simulatio...</td>\n",
       "      <td>Real Pool 3D - Poolians</td>\n",
       "      <td>2017-07-24</td>\n",
       "      <td>670290.0</td>\n",
       "    </tr>\n",
       "    <tr>\n",
       "      <th>88313</th>\n",
       "      <td>['Action', 'Adventure', 'Casual']</td>\n",
       "      <td>弹炸人2222</td>\n",
       "      <td>2017-12-07</td>\n",
       "      <td>767400.0</td>\n",
       "    </tr>\n",
       "    <tr>\n",
       "      <th>88314</th>\n",
       "      <td>&lt;NA&gt;</td>\n",
       "      <td>&lt;NA&gt;</td>\n",
       "      <td>&lt;NA&gt;</td>\n",
       "      <td>773570.0</td>\n",
       "    </tr>\n",
       "  </tbody>\n",
       "</table>\n",
       "</div>"
      ],
      "text/plain": [
       "                                                  genres  \\\n",
       "88310  ['Action', 'Casual', 'Indie', 'Simulation', 'S...   \n",
       "88311       ['Free to Play', 'Indie', 'RPG', 'Strategy']   \n",
       "88312  ['Casual', 'Free to Play', 'Indie', 'Simulatio...   \n",
       "88313                  ['Action', 'Adventure', 'Casual']   \n",
       "88314                                               <NA>   \n",
       "\n",
       "                         title release_date        id  \n",
       "88310      Lost Summoner Kitty   2018-01-04  761140.0  \n",
       "88311                Ironbound   2018-01-04  643980.0  \n",
       "88312  Real Pool 3D - Poolians   2017-07-24  670290.0  \n",
       "88313                  弹炸人2222   2017-12-07  767400.0  \n",
       "88314                     <NA>         <NA>  773570.0  "
      ]
     },
     "execution_count": 7,
     "metadata": {},
     "output_type": "execute_result"
    }
   ],
   "source": [
    "# Identificar duplicados en la columna 'id'\n",
    "df_games = df_games.drop_duplicates(subset='id')\n",
    "\n",
    "# Mostrar el dataframe sin filas duplicadas en la columna 'id'\n",
    "df_games.head()"
   ]
  },
  {
   "cell_type": "code",
   "execution_count": 8,
   "metadata": {},
   "outputs": [],
   "source": [
    "# Convierte el DataFrame de Dask a Pandas\n",
    "df_games_pandas = df_games.compute()"
   ]
  },
  {
   "cell_type": "code",
   "execution_count": 9,
   "metadata": {},
   "outputs": [
    {
     "data": {
      "text/plain": [
       "88310     ['Action', 'Casual', 'Indie', 'Simulation', 'S...\n",
       "88311          ['Free to Play', 'Indie', 'RPG', 'Strategy']\n",
       "88312     ['Casual', 'Free to Play', 'Indie', 'Simulatio...\n",
       "88313                     ['Action', 'Adventure', 'Casual']\n",
       "88314                                                  <NA>\n",
       "                                ...                        \n",
       "120440        ['Casual', 'Indie', 'Simulation', 'Strategy']\n",
       "120441                      ['Casual', 'Indie', 'Strategy']\n",
       "120442                    ['Indie', 'Racing', 'Simulation']\n",
       "120443                                  ['Casual', 'Indie']\n",
       "120444                                                 <NA>\n",
       "Name: genres, Length: 32133, dtype: string"
      ]
     },
     "execution_count": 9,
     "metadata": {},
     "output_type": "execute_result"
    }
   ],
   "source": [
    "#Crea un dataframe de la columna reviews\n",
    "col_genres = df_games_pandas['genres']\n",
    "col_genres"
   ]
  },
  {
   "cell_type": "code",
   "execution_count": 10,
   "metadata": {},
   "outputs": [
    {
     "name": "stdout",
     "output_type": "stream",
     "text": [
      "<class 'pandas.core.series.Series'>\n"
     ]
    }
   ],
   "source": [
    "print(type(col_genres))"
   ]
  },
  {
   "cell_type": "code",
   "execution_count": 11,
   "metadata": {},
   "outputs": [],
   "source": [
    "# Función que convierte las filas de la columna de cadena a lista(str a list)\n",
    "def convertir_list(cadena):\n",
    "    try:\n",
    "        lista = ast.literal_eval(cadena)\n",
    "        return lista\n",
    "    except (ValueError, SyntaxError):\n",
    "        return []"
   ]
  },
  {
   "cell_type": "code",
   "execution_count": 12,
   "metadata": {},
   "outputs": [
    {
     "data": {
      "text/plain": [
       "88310         [Action, Casual, Indie, Simulation, Strategy]\n",
       "88311                  [Free to Play, Indie, RPG, Strategy]\n",
       "88312     [Casual, Free to Play, Indie, Simulation, Sports]\n",
       "88313                           [Action, Adventure, Casual]\n",
       "88314                                                    []\n",
       "                                ...                        \n",
       "120440                [Casual, Indie, Simulation, Strategy]\n",
       "120441                            [Casual, Indie, Strategy]\n",
       "120442                          [Indie, Racing, Simulation]\n",
       "120443                                      [Casual, Indie]\n",
       "120444                                                   []\n",
       "Name: genres, Length: 32133, dtype: object"
      ]
     },
     "execution_count": 12,
     "metadata": {},
     "output_type": "execute_result"
    }
   ],
   "source": [
    "#Aplica la función convertir_list\n",
    "col_genres_exp = col_genres.apply(convertir_list)\n",
    "col_genres_exp"
   ]
  },
  {
   "cell_type": "code",
   "execution_count": 13,
   "metadata": {},
   "outputs": [
    {
     "data": {
      "text/plain": [
       "88310        Action\n",
       "88310        Casual\n",
       "88310         Indie\n",
       "88310    Simulation\n",
       "88310      Strategy\n",
       "Name: genres, dtype: object"
      ]
     },
     "execution_count": 13,
     "metadata": {},
     "output_type": "execute_result"
    }
   ],
   "source": [
    "explode_col_genres = col_genres_exp.explode()\n",
    "explode_col_genres.head()"
   ]
  },
  {
   "cell_type": "code",
   "execution_count": 14,
   "metadata": {},
   "outputs": [],
   "source": [
    "df_games_pandas = df_games_pandas.drop(columns =['genres'])"
   ]
  },
  {
   "cell_type": "code",
   "execution_count": 15,
   "metadata": {},
   "outputs": [
    {
     "data": {
      "text/html": [
       "<div>\n",
       "<style scoped>\n",
       "    .dataframe tbody tr th:only-of-type {\n",
       "        vertical-align: middle;\n",
       "    }\n",
       "\n",
       "    .dataframe tbody tr th {\n",
       "        vertical-align: top;\n",
       "    }\n",
       "\n",
       "    .dataframe thead th {\n",
       "        text-align: right;\n",
       "    }\n",
       "</style>\n",
       "<table border=\"1\" class=\"dataframe\">\n",
       "  <thead>\n",
       "    <tr style=\"text-align: right;\">\n",
       "      <th></th>\n",
       "      <th>title</th>\n",
       "      <th>release_date</th>\n",
       "      <th>id</th>\n",
       "      <th>genres</th>\n",
       "    </tr>\n",
       "  </thead>\n",
       "  <tbody>\n",
       "    <tr>\n",
       "      <th>88310</th>\n",
       "      <td>Lost Summoner Kitty</td>\n",
       "      <td>2018-01-04</td>\n",
       "      <td>761140.0</td>\n",
       "      <td>Action</td>\n",
       "    </tr>\n",
       "    <tr>\n",
       "      <th>88310</th>\n",
       "      <td>Lost Summoner Kitty</td>\n",
       "      <td>2018-01-04</td>\n",
       "      <td>761140.0</td>\n",
       "      <td>Casual</td>\n",
       "    </tr>\n",
       "    <tr>\n",
       "      <th>88310</th>\n",
       "      <td>Lost Summoner Kitty</td>\n",
       "      <td>2018-01-04</td>\n",
       "      <td>761140.0</td>\n",
       "      <td>Indie</td>\n",
       "    </tr>\n",
       "    <tr>\n",
       "      <th>88310</th>\n",
       "      <td>Lost Summoner Kitty</td>\n",
       "      <td>2018-01-04</td>\n",
       "      <td>761140.0</td>\n",
       "      <td>Simulation</td>\n",
       "    </tr>\n",
       "    <tr>\n",
       "      <th>88310</th>\n",
       "      <td>Lost Summoner Kitty</td>\n",
       "      <td>2018-01-04</td>\n",
       "      <td>761140.0</td>\n",
       "      <td>Strategy</td>\n",
       "    </tr>\n",
       "  </tbody>\n",
       "</table>\n",
       "</div>"
      ],
      "text/plain": [
       "                     title release_date        id      genres\n",
       "88310  Lost Summoner Kitty   2018-01-04  761140.0      Action\n",
       "88310  Lost Summoner Kitty   2018-01-04  761140.0      Casual\n",
       "88310  Lost Summoner Kitty   2018-01-04  761140.0       Indie\n",
       "88310  Lost Summoner Kitty   2018-01-04  761140.0  Simulation\n",
       "88310  Lost Summoner Kitty   2018-01-04  761140.0    Strategy"
      ]
     },
     "execution_count": 15,
     "metadata": {},
     "output_type": "execute_result"
    }
   ],
   "source": [
    "# Une los dataframe por el indice\n",
    "# Unir los DataFrames utilizando merge con how='right'\n",
    "games_combined = pd.merge(df_games_pandas, explode_col_genres, left_index=True, right_index=True)\n",
    "games_combined.head()"
   ]
  },
  {
   "cell_type": "markdown",
   "metadata": {},
   "source": [
    "### user_reviews"
   ]
  },
  {
   "cell_type": "code",
   "execution_count": 18,
   "metadata": {},
   "outputs": [
    {
     "data": {
      "text/html": [
       "<div>\n",
       "<style scoped>\n",
       "    .dataframe tbody tr th:only-of-type {\n",
       "        vertical-align: middle;\n",
       "    }\n",
       "\n",
       "    .dataframe tbody tr th {\n",
       "        vertical-align: top;\n",
       "    }\n",
       "\n",
       "    .dataframe thead th {\n",
       "        text-align: right;\n",
       "    }\n",
       "</style>\n",
       "<table border=\"1\" class=\"dataframe\">\n",
       "  <thead>\n",
       "    <tr style=\"text-align: right;\">\n",
       "      <th></th>\n",
       "      <th>user_id</th>\n",
       "      <th>user_url</th>\n",
       "      <th>reviews</th>\n",
       "    </tr>\n",
       "  </thead>\n",
       "  <tbody>\n",
       "    <tr>\n",
       "      <th>0</th>\n",
       "      <td>76561197970982479</td>\n",
       "      <td>http://steamcommunity.com/profiles/76561197970...</td>\n",
       "      <td>[{'funny': '', 'posted': 'Posted November 5, 2...</td>\n",
       "    </tr>\n",
       "    <tr>\n",
       "      <th>1</th>\n",
       "      <td>js41637</td>\n",
       "      <td>http://steamcommunity.com/id/js41637</td>\n",
       "      <td>[{'funny': '', 'posted': 'Posted June 24, 2014...</td>\n",
       "    </tr>\n",
       "  </tbody>\n",
       "</table>\n",
       "</div>"
      ],
      "text/plain": [
       "             user_id                                           user_url  \\\n",
       "0  76561197970982479  http://steamcommunity.com/profiles/76561197970...   \n",
       "1            js41637               http://steamcommunity.com/id/js41637   \n",
       "\n",
       "                                             reviews  \n",
       "0  [{'funny': '', 'posted': 'Posted November 5, 2...  \n",
       "1  [{'funny': '', 'posted': 'Posted June 24, 2014...  "
      ]
     },
     "execution_count": 18,
     "metadata": {},
     "output_type": "execute_result"
    }
   ],
   "source": [
    "# Ruta del archivo comprimido\n",
    "comprimido_reviews = \"C:/Users/57315/OneDrive/Documentos/Phyton_Henry/proyecto individual 1/PI MLOps - STEAM/datasets_iniciales/user_reviews.json.gz\"\n",
    "\n",
    "# Listas para almacenar los datos\n",
    "reviews_data_list = []\n",
    "\n",
    "# Descomprime el archivo y procesa las líneas una a una\n",
    "with gzip.open(comprimido_reviews, 'rb') as exp_reviews:\n",
    "    for line in exp_reviews:\n",
    "        try:\n",
    "            # Decodifica la línea utilizando UTF-8 y convierte a cadena\n",
    "            linea_decodificada = line.decode('utf-8').strip()\n",
    "\n",
    "            # Evalua la línea como una estructura de datos de Python\n",
    "            reviews_data = ast.literal_eval(linea_decodificada)\n",
    "\n",
    "            # Agrega los datos a la lista\n",
    "            reviews_data_list.append(reviews_data)\n",
    "            \n",
    "        # Muestra mensaje de error cuando no sea posible ver la estructura, con numero de linea y detalles del error\n",
    "        except Exception as e:\n",
    "            print(f\"Error al evaluar la línea como estructura de datos: {linea_decodificada}\")\n",
    "            print(f\"Detalles del error: {e}\")\n",
    "\n",
    "# Crea un DataFrame de Dask a partir de la lista\n",
    "df_reviews = dd.from_pandas(pd.DataFrame(reviews_data_list), npartitions=10)  # Ajusta el número de particiones según tus necesidades\n",
    "\n",
    "#Elimina las filas que tienen datos nulos en todas sus columnas\n",
    "df_reviews = df_reviews.dropna(how='all')\n",
    "\n",
    "# Computa y muestra el resultado\n",
    "df_reviews.compute().head(2)"
   ]
  },
  {
   "cell_type": "code",
   "execution_count": 19,
   "metadata": {},
   "outputs": [],
   "source": [
    "#Elimina las columnas que no necesitan para responder las consultas o preparar los modelos \n",
    "#de aprendizaje automático\n",
    "df_reviews = df_reviews.drop(columns=['user_url'])"
   ]
  },
  {
   "cell_type": "code",
   "execution_count": 20,
   "metadata": {},
   "outputs": [
    {
     "name": "stdout",
     "output_type": "stream",
     "text": [
      "Columnas con todos los valores nulos: Index([], dtype='string')\n"
     ]
    }
   ],
   "source": [
    "# Verifica las celdas con valores nulos\n",
    "nulos_por_celda_reviews = df_reviews.isnull()\n",
    "\n",
    "# Verifica si todas las celdas de cada columna son nulas\n",
    "columnas_con_nulos_reviews = nulos_por_celda_reviews.all()\n",
    "\n",
    "# Obtiene el nombre de las columnas con todos los valores nulos\n",
    "columnas_con_todos_nulos_reviews = columnas_con_nulos_reviews[columnas_con_nulos_reviews].index.compute()\n",
    "\n",
    "# Muestra las columnas con todos los valores nulos\n",
    "print(\"Columnas con todos los valores nulos:\", columnas_con_todos_nulos_reviews)"
   ]
  },
  {
   "cell_type": "code",
   "execution_count": 21,
   "metadata": {},
   "outputs": [],
   "source": [
    "#Elimina las filas duplicadas\n",
    "df_reviews = df_reviews.drop_duplicates()"
   ]
  },
  {
   "cell_type": "code",
   "execution_count": 22,
   "metadata": {},
   "outputs": [
    {
     "name": "stdout",
     "output_type": "stream",
     "text": [
      "                 user_id                                            reviews\n",
      "0      76561197970982479  [{'funny': '', 'posted': 'Posted November 5, 2...\n",
      "1                js41637  [{'funny': '', 'posted': 'Posted June 24, 2014...\n",
      "2              evcentric  [{'funny': '', 'posted': 'Posted February 3.',...\n",
      "3                  doctr  [{'funny': '', 'posted': 'Posted October 14, 2...\n",
      "4              maplemage  [{'funny': '3 people found this review funny',...\n",
      "...                  ...                                                ...\n",
      "25794  76561198306599751  [{'funny': '', 'posted': 'Posted May 31.', 'la...\n",
      "25795           Ghoustik  [{'funny': '', 'posted': 'Posted June 17.', 'l...\n",
      "25796  76561198310819422  [{'funny': '1 person found this review funny',...\n",
      "25797  76561198312638244  [{'funny': '', 'posted': 'Posted July 21.', 'l...\n",
      "25798        LydiaMorley  [{'funny': '1 person found this review funny',...\n",
      "\n",
      "[25485 rows x 2 columns]\n"
     ]
    }
   ],
   "source": [
    "# Identificar duplicados en la columna 'user_id'\n",
    "df_reviews = df_reviews.drop_duplicates(subset='user_id')\n",
    "\n",
    "# Mostrar el dataframe sin filas duplicadas en la columna 'user_id'\n",
    "print(df_reviews.compute())"
   ]
  },
  {
   "cell_type": "code",
   "execution_count": 23,
   "metadata": {},
   "outputs": [],
   "source": [
    "# Convierte el DataFrame de Dask a Pandas\n",
    "df_reviews_pandas = df_reviews.compute()"
   ]
  },
  {
   "cell_type": "code",
   "execution_count": 24,
   "metadata": {},
   "outputs": [],
   "source": [
    "#Crea un dataframe de la columna reviews\n",
    "col_reviews = df_reviews_pandas['reviews']"
   ]
  },
  {
   "cell_type": "code",
   "execution_count": 25,
   "metadata": {},
   "outputs": [
    {
     "name": "stdout",
     "output_type": "stream",
     "text": [
      "<class 'pandas.core.series.Series'>\n",
      "<class 'str'>\n"
     ]
    }
   ],
   "source": [
    "print(type(col_reviews))\n",
    "print(type(col_reviews[0]))"
   ]
  },
  {
   "cell_type": "code",
   "execution_count": 26,
   "metadata": {},
   "outputs": [],
   "source": [
    "# Función que convierte las filas de la columna de cadena a lista(str a list)\n",
    "def convertir_list(cadena):\n",
    "    try:\n",
    "        lista = ast.literal_eval(cadena)\n",
    "        return lista\n",
    "    except (ValueError, SyntaxError):\n",
    "        return []"
   ]
  },
  {
   "cell_type": "code",
   "execution_count": 27,
   "metadata": {},
   "outputs": [
    {
     "data": {
      "text/plain": [
       "0        [{'funny': '', 'posted': 'Posted November 5, 2...\n",
       "1        [{'funny': '', 'posted': 'Posted June 24, 2014...\n",
       "2        [{'funny': '', 'posted': 'Posted February 3.',...\n",
       "3        [{'funny': '', 'posted': 'Posted October 14, 2...\n",
       "4        [{'funny': '3 people found this review funny',...\n",
       "                               ...                        \n",
       "25794    [{'funny': '', 'posted': 'Posted May 31.', 'la...\n",
       "25795    [{'funny': '', 'posted': 'Posted June 17.', 'l...\n",
       "25796    [{'funny': '1 person found this review funny',...\n",
       "25797    [{'funny': '', 'posted': 'Posted July 21.', 'l...\n",
       "25798    [{'funny': '1 person found this review funny',...\n",
       "Name: reviews, Length: 25485, dtype: object"
      ]
     },
     "execution_count": 27,
     "metadata": {},
     "output_type": "execute_result"
    }
   ],
   "source": [
    "#Aplica la función convertir_list\n",
    "col_reviews_exp = col_reviews.apply(convertir_list)\n",
    "col_reviews_exp"
   ]
  },
  {
   "cell_type": "code",
   "execution_count": 28,
   "metadata": {},
   "outputs": [
    {
     "name": "stdout",
     "output_type": "stream",
     "text": [
      "<class 'pandas.core.series.Series'>\n",
      "<class 'list'>\n",
      "<class 'dict'>\n"
     ]
    }
   ],
   "source": [
    "# Muestra la estrutura del dataframe\n",
    "print(type(col_reviews_exp))\n",
    "print(type(col_reviews_exp[0]))\n",
    "print(type(col_reviews_exp[0][0]))"
   ]
  },
  {
   "cell_type": "code",
   "execution_count": 29,
   "metadata": {},
   "outputs": [
    {
     "data": {
      "text/plain": [
       "0    {'funny': '', 'posted': 'Posted November 5, 20...\n",
       "0    {'funny': '', 'posted': 'Posted July 15, 2011....\n",
       "0    {'funny': '', 'posted': 'Posted April 21, 2011...\n",
       "1    {'funny': '', 'posted': 'Posted June 24, 2014....\n",
       "1    {'funny': '', 'posted': 'Posted September 8, 2...\n",
       "Name: reviews, dtype: object"
      ]
     },
     "execution_count": 29,
     "metadata": {},
     "output_type": "execute_result"
    }
   ],
   "source": [
    "#Expande las filas, convierte cada elemento de lista en fila conservando el indice\n",
    "explode_col_reviews = col_reviews_exp.explode()\n",
    "explode_col_reviews.head()"
   ]
  },
  {
   "cell_type": "code",
   "execution_count": 30,
   "metadata": {},
   "outputs": [
    {
     "data": {
      "text/html": [
       "<div>\n",
       "<style scoped>\n",
       "    .dataframe tbody tr th:only-of-type {\n",
       "        vertical-align: middle;\n",
       "    }\n",
       "\n",
       "    .dataframe tbody tr th {\n",
       "        vertical-align: top;\n",
       "    }\n",
       "\n",
       "    .dataframe thead th {\n",
       "        text-align: right;\n",
       "    }\n",
       "</style>\n",
       "<table border=\"1\" class=\"dataframe\">\n",
       "  <thead>\n",
       "    <tr style=\"text-align: right;\">\n",
       "      <th></th>\n",
       "      <th>funny</th>\n",
       "      <th>posted</th>\n",
       "      <th>last_edited</th>\n",
       "      <th>item_id</th>\n",
       "      <th>helpful</th>\n",
       "      <th>recommend</th>\n",
       "      <th>review</th>\n",
       "      <th>0</th>\n",
       "    </tr>\n",
       "  </thead>\n",
       "  <tbody>\n",
       "    <tr>\n",
       "      <th>0</th>\n",
       "      <td></td>\n",
       "      <td>Posted November 5, 2011.</td>\n",
       "      <td></td>\n",
       "      <td>1250</td>\n",
       "      <td>No ratings yet</td>\n",
       "      <td>True</td>\n",
       "      <td>Simple yet with great replayability. In my opi...</td>\n",
       "      <td>NaN</td>\n",
       "    </tr>\n",
       "    <tr>\n",
       "      <th>0</th>\n",
       "      <td></td>\n",
       "      <td>Posted July 15, 2011.</td>\n",
       "      <td></td>\n",
       "      <td>22200</td>\n",
       "      <td>No ratings yet</td>\n",
       "      <td>True</td>\n",
       "      <td>It's unique and worth a playthrough.</td>\n",
       "      <td>NaN</td>\n",
       "    </tr>\n",
       "    <tr>\n",
       "      <th>0</th>\n",
       "      <td></td>\n",
       "      <td>Posted April 21, 2011.</td>\n",
       "      <td></td>\n",
       "      <td>43110</td>\n",
       "      <td>No ratings yet</td>\n",
       "      <td>True</td>\n",
       "      <td>Great atmosphere. The gunplay can be a bit chu...</td>\n",
       "      <td>NaN</td>\n",
       "    </tr>\n",
       "    <tr>\n",
       "      <th>1</th>\n",
       "      <td></td>\n",
       "      <td>Posted June 24, 2014.</td>\n",
       "      <td></td>\n",
       "      <td>251610</td>\n",
       "      <td>15 of 20 people (75%) found this review helpful</td>\n",
       "      <td>True</td>\n",
       "      <td>I know what you think when you see this title ...</td>\n",
       "      <td>NaN</td>\n",
       "    </tr>\n",
       "    <tr>\n",
       "      <th>1</th>\n",
       "      <td></td>\n",
       "      <td>Posted September 8, 2013.</td>\n",
       "      <td></td>\n",
       "      <td>227300</td>\n",
       "      <td>0 of 1 people (0%) found this review helpful</td>\n",
       "      <td>True</td>\n",
       "      <td>For a simple (it's actually not all that simpl...</td>\n",
       "      <td>NaN</td>\n",
       "    </tr>\n",
       "    <tr>\n",
       "      <th>...</th>\n",
       "      <td>...</td>\n",
       "      <td>...</td>\n",
       "      <td>...</td>\n",
       "      <td>...</td>\n",
       "      <td>...</td>\n",
       "      <td>...</td>\n",
       "      <td>...</td>\n",
       "      <td>...</td>\n",
       "    </tr>\n",
       "    <tr>\n",
       "      <th>25797</th>\n",
       "      <td></td>\n",
       "      <td>Posted July 10.</td>\n",
       "      <td></td>\n",
       "      <td>70</td>\n",
       "      <td>No ratings yet</td>\n",
       "      <td>True</td>\n",
       "      <td>a must have classic from steam definitely wort...</td>\n",
       "      <td>NaN</td>\n",
       "    </tr>\n",
       "    <tr>\n",
       "      <th>25797</th>\n",
       "      <td></td>\n",
       "      <td>Posted July 8.</td>\n",
       "      <td></td>\n",
       "      <td>362890</td>\n",
       "      <td>No ratings yet</td>\n",
       "      <td>True</td>\n",
       "      <td>this game is a perfect remake of the original ...</td>\n",
       "      <td>NaN</td>\n",
       "    </tr>\n",
       "    <tr>\n",
       "      <th>25798</th>\n",
       "      <td>1 person found this review funny</td>\n",
       "      <td>Posted July 3.</td>\n",
       "      <td></td>\n",
       "      <td>273110</td>\n",
       "      <td>1 of 2 people (50%) found this review helpful</td>\n",
       "      <td>True</td>\n",
       "      <td>had so much fun plaing this and collecting res...</td>\n",
       "      <td>NaN</td>\n",
       "    </tr>\n",
       "    <tr>\n",
       "      <th>25798</th>\n",
       "      <td></td>\n",
       "      <td>Posted July 20.</td>\n",
       "      <td></td>\n",
       "      <td>730</td>\n",
       "      <td>No ratings yet</td>\n",
       "      <td>True</td>\n",
       "      <td>:D</td>\n",
       "      <td>NaN</td>\n",
       "    </tr>\n",
       "    <tr>\n",
       "      <th>25798</th>\n",
       "      <td></td>\n",
       "      <td>Posted July 2.</td>\n",
       "      <td></td>\n",
       "      <td>440</td>\n",
       "      <td>No ratings yet</td>\n",
       "      <td>True</td>\n",
       "      <td>so much fun :D</td>\n",
       "      <td>NaN</td>\n",
       "    </tr>\n",
       "  </tbody>\n",
       "</table>\n",
       "<p>58458 rows × 8 columns</p>\n",
       "</div>"
      ],
      "text/plain": [
       "                                  funny                     posted  \\\n",
       "0                                         Posted November 5, 2011.   \n",
       "0                                            Posted July 15, 2011.   \n",
       "0                                           Posted April 21, 2011.   \n",
       "1                                            Posted June 24, 2014.   \n",
       "1                                        Posted September 8, 2013.   \n",
       "...                                 ...                        ...   \n",
       "25797                                              Posted July 10.   \n",
       "25797                                               Posted July 8.   \n",
       "25798  1 person found this review funny             Posted July 3.   \n",
       "25798                                              Posted July 20.   \n",
       "25798                                               Posted July 2.   \n",
       "\n",
       "      last_edited item_id                                          helpful  \\\n",
       "0                    1250                                   No ratings yet   \n",
       "0                   22200                                   No ratings yet   \n",
       "0                   43110                                   No ratings yet   \n",
       "1                  251610  15 of 20 people (75%) found this review helpful   \n",
       "1                  227300     0 of 1 people (0%) found this review helpful   \n",
       "...           ...     ...                                              ...   \n",
       "25797                  70                                   No ratings yet   \n",
       "25797              362890                                   No ratings yet   \n",
       "25798              273110    1 of 2 people (50%) found this review helpful   \n",
       "25798                 730                                   No ratings yet   \n",
       "25798                 440                                   No ratings yet   \n",
       "\n",
       "      recommend                                             review   0  \n",
       "0          True  Simple yet with great replayability. In my opi... NaN  \n",
       "0          True               It's unique and worth a playthrough. NaN  \n",
       "0          True  Great atmosphere. The gunplay can be a bit chu... NaN  \n",
       "1          True  I know what you think when you see this title ... NaN  \n",
       "1          True  For a simple (it's actually not all that simpl... NaN  \n",
       "...         ...                                                ...  ..  \n",
       "25797      True  a must have classic from steam definitely wort... NaN  \n",
       "25797      True  this game is a perfect remake of the original ... NaN  \n",
       "25798      True  had so much fun plaing this and collecting res... NaN  \n",
       "25798      True                                                 :D NaN  \n",
       "25798      True                                     so much fun :D NaN  \n",
       "\n",
       "[58458 rows x 8 columns]"
      ]
     },
     "execution_count": 30,
     "metadata": {},
     "output_type": "execute_result"
    }
   ],
   "source": [
    "#Expande diccionarios, convierte claves en columnas y valores en filas\n",
    "dicc_explode_col_reviews = explode_col_reviews.apply(pd.Series)\n",
    "dicc_explode_col_reviews"
   ]
  },
  {
   "cell_type": "code",
   "execution_count": 31,
   "metadata": {},
   "outputs": [
    {
     "data": {
      "text/plain": [
       "58458"
      ]
     },
     "execution_count": 31,
     "metadata": {},
     "output_type": "execute_result"
    }
   ],
   "source": [
    "#verificar que la columna'0' tiene solo valores nulos\n",
    "dicc_explode_col_reviews[0].isna().sum()"
   ]
  },
  {
   "cell_type": "code",
   "execution_count": 32,
   "metadata": {},
   "outputs": [
    {
     "data": {
      "text/html": [
       "<div>\n",
       "<style scoped>\n",
       "    .dataframe tbody tr th:only-of-type {\n",
       "        vertical-align: middle;\n",
       "    }\n",
       "\n",
       "    .dataframe tbody tr th {\n",
       "        vertical-align: top;\n",
       "    }\n",
       "\n",
       "    .dataframe thead th {\n",
       "        text-align: right;\n",
       "    }\n",
       "</style>\n",
       "<table border=\"1\" class=\"dataframe\">\n",
       "  <thead>\n",
       "    <tr style=\"text-align: right;\">\n",
       "      <th></th>\n",
       "      <th>funny</th>\n",
       "      <th>posted</th>\n",
       "      <th>last_edited</th>\n",
       "      <th>item_id</th>\n",
       "      <th>helpful</th>\n",
       "      <th>recommend</th>\n",
       "      <th>review</th>\n",
       "    </tr>\n",
       "  </thead>\n",
       "  <tbody>\n",
       "    <tr>\n",
       "      <th>0</th>\n",
       "      <td></td>\n",
       "      <td>Posted November 5, 2011.</td>\n",
       "      <td></td>\n",
       "      <td>1250</td>\n",
       "      <td>No ratings yet</td>\n",
       "      <td>True</td>\n",
       "      <td>Simple yet with great replayability. In my opi...</td>\n",
       "    </tr>\n",
       "    <tr>\n",
       "      <th>0</th>\n",
       "      <td></td>\n",
       "      <td>Posted July 15, 2011.</td>\n",
       "      <td></td>\n",
       "      <td>22200</td>\n",
       "      <td>No ratings yet</td>\n",
       "      <td>True</td>\n",
       "      <td>It's unique and worth a playthrough.</td>\n",
       "    </tr>\n",
       "    <tr>\n",
       "      <th>0</th>\n",
       "      <td></td>\n",
       "      <td>Posted April 21, 2011.</td>\n",
       "      <td></td>\n",
       "      <td>43110</td>\n",
       "      <td>No ratings yet</td>\n",
       "      <td>True</td>\n",
       "      <td>Great atmosphere. The gunplay can be a bit chu...</td>\n",
       "    </tr>\n",
       "    <tr>\n",
       "      <th>1</th>\n",
       "      <td></td>\n",
       "      <td>Posted June 24, 2014.</td>\n",
       "      <td></td>\n",
       "      <td>251610</td>\n",
       "      <td>15 of 20 people (75%) found this review helpful</td>\n",
       "      <td>True</td>\n",
       "      <td>I know what you think when you see this title ...</td>\n",
       "    </tr>\n",
       "    <tr>\n",
       "      <th>1</th>\n",
       "      <td></td>\n",
       "      <td>Posted September 8, 2013.</td>\n",
       "      <td></td>\n",
       "      <td>227300</td>\n",
       "      <td>0 of 1 people (0%) found this review helpful</td>\n",
       "      <td>True</td>\n",
       "      <td>For a simple (it's actually not all that simpl...</td>\n",
       "    </tr>\n",
       "    <tr>\n",
       "      <th>...</th>\n",
       "      <td>...</td>\n",
       "      <td>...</td>\n",
       "      <td>...</td>\n",
       "      <td>...</td>\n",
       "      <td>...</td>\n",
       "      <td>...</td>\n",
       "      <td>...</td>\n",
       "    </tr>\n",
       "    <tr>\n",
       "      <th>25797</th>\n",
       "      <td></td>\n",
       "      <td>Posted July 10.</td>\n",
       "      <td></td>\n",
       "      <td>70</td>\n",
       "      <td>No ratings yet</td>\n",
       "      <td>True</td>\n",
       "      <td>a must have classic from steam definitely wort...</td>\n",
       "    </tr>\n",
       "    <tr>\n",
       "      <th>25797</th>\n",
       "      <td></td>\n",
       "      <td>Posted July 8.</td>\n",
       "      <td></td>\n",
       "      <td>362890</td>\n",
       "      <td>No ratings yet</td>\n",
       "      <td>True</td>\n",
       "      <td>this game is a perfect remake of the original ...</td>\n",
       "    </tr>\n",
       "    <tr>\n",
       "      <th>25798</th>\n",
       "      <td>1 person found this review funny</td>\n",
       "      <td>Posted July 3.</td>\n",
       "      <td></td>\n",
       "      <td>273110</td>\n",
       "      <td>1 of 2 people (50%) found this review helpful</td>\n",
       "      <td>True</td>\n",
       "      <td>had so much fun plaing this and collecting res...</td>\n",
       "    </tr>\n",
       "    <tr>\n",
       "      <th>25798</th>\n",
       "      <td></td>\n",
       "      <td>Posted July 20.</td>\n",
       "      <td></td>\n",
       "      <td>730</td>\n",
       "      <td>No ratings yet</td>\n",
       "      <td>True</td>\n",
       "      <td>:D</td>\n",
       "    </tr>\n",
       "    <tr>\n",
       "      <th>25798</th>\n",
       "      <td></td>\n",
       "      <td>Posted July 2.</td>\n",
       "      <td></td>\n",
       "      <td>440</td>\n",
       "      <td>No ratings yet</td>\n",
       "      <td>True</td>\n",
       "      <td>so much fun :D</td>\n",
       "    </tr>\n",
       "  </tbody>\n",
       "</table>\n",
       "<p>58458 rows × 7 columns</p>\n",
       "</div>"
      ],
      "text/plain": [
       "                                  funny                     posted  \\\n",
       "0                                         Posted November 5, 2011.   \n",
       "0                                            Posted July 15, 2011.   \n",
       "0                                           Posted April 21, 2011.   \n",
       "1                                            Posted June 24, 2014.   \n",
       "1                                        Posted September 8, 2013.   \n",
       "...                                 ...                        ...   \n",
       "25797                                              Posted July 10.   \n",
       "25797                                               Posted July 8.   \n",
       "25798  1 person found this review funny             Posted July 3.   \n",
       "25798                                              Posted July 20.   \n",
       "25798                                               Posted July 2.   \n",
       "\n",
       "      last_edited item_id                                          helpful  \\\n",
       "0                    1250                                   No ratings yet   \n",
       "0                   22200                                   No ratings yet   \n",
       "0                   43110                                   No ratings yet   \n",
       "1                  251610  15 of 20 people (75%) found this review helpful   \n",
       "1                  227300     0 of 1 people (0%) found this review helpful   \n",
       "...           ...     ...                                              ...   \n",
       "25797                  70                                   No ratings yet   \n",
       "25797              362890                                   No ratings yet   \n",
       "25798              273110    1 of 2 people (50%) found this review helpful   \n",
       "25798                 730                                   No ratings yet   \n",
       "25798                 440                                   No ratings yet   \n",
       "\n",
       "      recommend                                             review  \n",
       "0          True  Simple yet with great replayability. In my opi...  \n",
       "0          True               It's unique and worth a playthrough.  \n",
       "0          True  Great atmosphere. The gunplay can be a bit chu...  \n",
       "1          True  I know what you think when you see this title ...  \n",
       "1          True  For a simple (it's actually not all that simpl...  \n",
       "...         ...                                                ...  \n",
       "25797      True  a must have classic from steam definitely wort...  \n",
       "25797      True  this game is a perfect remake of the original ...  \n",
       "25798      True  had so much fun plaing this and collecting res...  \n",
       "25798      True                                                 :D  \n",
       "25798      True                                     so much fun :D  \n",
       "\n",
       "[58458 rows x 7 columns]"
      ]
     },
     "execution_count": 32,
     "metadata": {},
     "output_type": "execute_result"
    }
   ],
   "source": [
    "# Eliminar columnas que no se necesitan para los calculos a realizar\n",
    "columnas_para_eliminar_reviews = [0]\n",
    "dicc_explode_col_reviews = dicc_explode_col_reviews.drop(\n",
    "    columns=columnas_para_eliminar_reviews)\n",
    "dicc_explode_col_reviews"
   ]
  },
  {
   "cell_type": "code",
   "execution_count": 33,
   "metadata": {},
   "outputs": [],
   "source": [
    "#Elimina columnas que no se necesitan\n",
    "df_reviews_pandas = df_reviews_pandas.drop(columns = ['reviews'])"
   ]
  },
  {
   "cell_type": "code",
   "execution_count": 34,
   "metadata": {},
   "outputs": [
    {
     "data": {
      "text/html": [
       "<div>\n",
       "<style scoped>\n",
       "    .dataframe tbody tr th:only-of-type {\n",
       "        vertical-align: middle;\n",
       "    }\n",
       "\n",
       "    .dataframe tbody tr th {\n",
       "        vertical-align: top;\n",
       "    }\n",
       "\n",
       "    .dataframe thead th {\n",
       "        text-align: right;\n",
       "    }\n",
       "</style>\n",
       "<table border=\"1\" class=\"dataframe\">\n",
       "  <thead>\n",
       "    <tr style=\"text-align: right;\">\n",
       "      <th></th>\n",
       "      <th>funny</th>\n",
       "      <th>posted</th>\n",
       "      <th>last_edited</th>\n",
       "      <th>item_id</th>\n",
       "      <th>helpful</th>\n",
       "      <th>recommend</th>\n",
       "      <th>review</th>\n",
       "      <th>user_id</th>\n",
       "    </tr>\n",
       "  </thead>\n",
       "  <tbody>\n",
       "    <tr>\n",
       "      <th>0</th>\n",
       "      <td></td>\n",
       "      <td>Posted November 5, 2011.</td>\n",
       "      <td></td>\n",
       "      <td>1250</td>\n",
       "      <td>No ratings yet</td>\n",
       "      <td>True</td>\n",
       "      <td>Simple yet with great replayability. In my opi...</td>\n",
       "      <td>76561197970982479</td>\n",
       "    </tr>\n",
       "    <tr>\n",
       "      <th>0</th>\n",
       "      <td></td>\n",
       "      <td>Posted July 15, 2011.</td>\n",
       "      <td></td>\n",
       "      <td>22200</td>\n",
       "      <td>No ratings yet</td>\n",
       "      <td>True</td>\n",
       "      <td>It's unique and worth a playthrough.</td>\n",
       "      <td>76561197970982479</td>\n",
       "    </tr>\n",
       "    <tr>\n",
       "      <th>0</th>\n",
       "      <td></td>\n",
       "      <td>Posted April 21, 2011.</td>\n",
       "      <td></td>\n",
       "      <td>43110</td>\n",
       "      <td>No ratings yet</td>\n",
       "      <td>True</td>\n",
       "      <td>Great atmosphere. The gunplay can be a bit chu...</td>\n",
       "      <td>76561197970982479</td>\n",
       "    </tr>\n",
       "    <tr>\n",
       "      <th>1</th>\n",
       "      <td></td>\n",
       "      <td>Posted June 24, 2014.</td>\n",
       "      <td></td>\n",
       "      <td>251610</td>\n",
       "      <td>15 of 20 people (75%) found this review helpful</td>\n",
       "      <td>True</td>\n",
       "      <td>I know what you think when you see this title ...</td>\n",
       "      <td>js41637</td>\n",
       "    </tr>\n",
       "    <tr>\n",
       "      <th>1</th>\n",
       "      <td></td>\n",
       "      <td>Posted September 8, 2013.</td>\n",
       "      <td></td>\n",
       "      <td>227300</td>\n",
       "      <td>0 of 1 people (0%) found this review helpful</td>\n",
       "      <td>True</td>\n",
       "      <td>For a simple (it's actually not all that simpl...</td>\n",
       "      <td>js41637</td>\n",
       "    </tr>\n",
       "    <tr>\n",
       "      <th>...</th>\n",
       "      <td>...</td>\n",
       "      <td>...</td>\n",
       "      <td>...</td>\n",
       "      <td>...</td>\n",
       "      <td>...</td>\n",
       "      <td>...</td>\n",
       "      <td>...</td>\n",
       "      <td>...</td>\n",
       "    </tr>\n",
       "    <tr>\n",
       "      <th>25797</th>\n",
       "      <td></td>\n",
       "      <td>Posted July 10.</td>\n",
       "      <td></td>\n",
       "      <td>70</td>\n",
       "      <td>No ratings yet</td>\n",
       "      <td>True</td>\n",
       "      <td>a must have classic from steam definitely wort...</td>\n",
       "      <td>76561198312638244</td>\n",
       "    </tr>\n",
       "    <tr>\n",
       "      <th>25797</th>\n",
       "      <td></td>\n",
       "      <td>Posted July 8.</td>\n",
       "      <td></td>\n",
       "      <td>362890</td>\n",
       "      <td>No ratings yet</td>\n",
       "      <td>True</td>\n",
       "      <td>this game is a perfect remake of the original ...</td>\n",
       "      <td>76561198312638244</td>\n",
       "    </tr>\n",
       "    <tr>\n",
       "      <th>25798</th>\n",
       "      <td>1 person found this review funny</td>\n",
       "      <td>Posted July 3.</td>\n",
       "      <td></td>\n",
       "      <td>273110</td>\n",
       "      <td>1 of 2 people (50%) found this review helpful</td>\n",
       "      <td>True</td>\n",
       "      <td>had so much fun plaing this and collecting res...</td>\n",
       "      <td>LydiaMorley</td>\n",
       "    </tr>\n",
       "    <tr>\n",
       "      <th>25798</th>\n",
       "      <td></td>\n",
       "      <td>Posted July 20.</td>\n",
       "      <td></td>\n",
       "      <td>730</td>\n",
       "      <td>No ratings yet</td>\n",
       "      <td>True</td>\n",
       "      <td>:D</td>\n",
       "      <td>LydiaMorley</td>\n",
       "    </tr>\n",
       "    <tr>\n",
       "      <th>25798</th>\n",
       "      <td></td>\n",
       "      <td>Posted July 2.</td>\n",
       "      <td></td>\n",
       "      <td>440</td>\n",
       "      <td>No ratings yet</td>\n",
       "      <td>True</td>\n",
       "      <td>so much fun :D</td>\n",
       "      <td>LydiaMorley</td>\n",
       "    </tr>\n",
       "  </tbody>\n",
       "</table>\n",
       "<p>58458 rows × 8 columns</p>\n",
       "</div>"
      ],
      "text/plain": [
       "                                  funny                     posted  \\\n",
       "0                                         Posted November 5, 2011.   \n",
       "0                                            Posted July 15, 2011.   \n",
       "0                                           Posted April 21, 2011.   \n",
       "1                                            Posted June 24, 2014.   \n",
       "1                                        Posted September 8, 2013.   \n",
       "...                                 ...                        ...   \n",
       "25797                                              Posted July 10.   \n",
       "25797                                               Posted July 8.   \n",
       "25798  1 person found this review funny             Posted July 3.   \n",
       "25798                                              Posted July 20.   \n",
       "25798                                               Posted July 2.   \n",
       "\n",
       "      last_edited item_id                                          helpful  \\\n",
       "0                    1250                                   No ratings yet   \n",
       "0                   22200                                   No ratings yet   \n",
       "0                   43110                                   No ratings yet   \n",
       "1                  251610  15 of 20 people (75%) found this review helpful   \n",
       "1                  227300     0 of 1 people (0%) found this review helpful   \n",
       "...           ...     ...                                              ...   \n",
       "25797                  70                                   No ratings yet   \n",
       "25797              362890                                   No ratings yet   \n",
       "25798              273110    1 of 2 people (50%) found this review helpful   \n",
       "25798                 730                                   No ratings yet   \n",
       "25798                 440                                   No ratings yet   \n",
       "\n",
       "      recommend                                             review  \\\n",
       "0          True  Simple yet with great replayability. In my opi...   \n",
       "0          True               It's unique and worth a playthrough.   \n",
       "0          True  Great atmosphere. The gunplay can be a bit chu...   \n",
       "1          True  I know what you think when you see this title ...   \n",
       "1          True  For a simple (it's actually not all that simpl...   \n",
       "...         ...                                                ...   \n",
       "25797      True  a must have classic from steam definitely wort...   \n",
       "25797      True  this game is a perfect remake of the original ...   \n",
       "25798      True  had so much fun plaing this and collecting res...   \n",
       "25798      True                                                 :D   \n",
       "25798      True                                     so much fun :D   \n",
       "\n",
       "                 user_id  \n",
       "0      76561197970982479  \n",
       "0      76561197970982479  \n",
       "0      76561197970982479  \n",
       "1                js41637  \n",
       "1                js41637  \n",
       "...                  ...  \n",
       "25797  76561198312638244  \n",
       "25797  76561198312638244  \n",
       "25798        LydiaMorley  \n",
       "25798        LydiaMorley  \n",
       "25798        LydiaMorley  \n",
       "\n",
       "[58458 rows x 8 columns]"
      ]
     },
     "execution_count": 34,
     "metadata": {},
     "output_type": "execute_result"
    }
   ],
   "source": [
    "# Une los dataframe por el indice\n",
    "reviews_combined = dicc_explode_col_reviews.merge(df_reviews_pandas, left_index=True, right_index=True)\n",
    "reviews_combined"
   ]
  },
  {
   "cell_type": "markdown",
   "metadata": {},
   "source": [
    "### user_items"
   ]
  },
  {
   "cell_type": "code",
   "execution_count": 36,
   "metadata": {},
   "outputs": [
    {
     "data": {
      "text/html": [
       "<div>\n",
       "<style scoped>\n",
       "    .dataframe tbody tr th:only-of-type {\n",
       "        vertical-align: middle;\n",
       "    }\n",
       "\n",
       "    .dataframe tbody tr th {\n",
       "        vertical-align: top;\n",
       "    }\n",
       "\n",
       "    .dataframe thead th {\n",
       "        text-align: right;\n",
       "    }\n",
       "</style>\n",
       "<table border=\"1\" class=\"dataframe\">\n",
       "  <thead>\n",
       "    <tr style=\"text-align: right;\">\n",
       "      <th></th>\n",
       "      <th>user_id</th>\n",
       "      <th>items_count</th>\n",
       "      <th>steam_id</th>\n",
       "      <th>user_url</th>\n",
       "      <th>items</th>\n",
       "    </tr>\n",
       "  </thead>\n",
       "  <tbody>\n",
       "    <tr>\n",
       "      <th>0</th>\n",
       "      <td>76561197970982479</td>\n",
       "      <td>277</td>\n",
       "      <td>76561197970982479</td>\n",
       "      <td>http://steamcommunity.com/profiles/76561197970...</td>\n",
       "      <td>[{'item_id': '10', 'item_name': 'Counter-Strik...</td>\n",
       "    </tr>\n",
       "    <tr>\n",
       "      <th>1</th>\n",
       "      <td>js41637</td>\n",
       "      <td>888</td>\n",
       "      <td>76561198035864385</td>\n",
       "      <td>http://steamcommunity.com/id/js41637</td>\n",
       "      <td>[{'item_id': '10', 'item_name': 'Counter-Strik...</td>\n",
       "    </tr>\n",
       "    <tr>\n",
       "      <th>2</th>\n",
       "      <td>evcentric</td>\n",
       "      <td>137</td>\n",
       "      <td>76561198007712555</td>\n",
       "      <td>http://steamcommunity.com/id/evcentric</td>\n",
       "      <td>[{'item_id': '1200', 'item_name': 'Red Orchest...</td>\n",
       "    </tr>\n",
       "    <tr>\n",
       "      <th>3</th>\n",
       "      <td>Riot-Punch</td>\n",
       "      <td>328</td>\n",
       "      <td>76561197963445855</td>\n",
       "      <td>http://steamcommunity.com/id/Riot-Punch</td>\n",
       "      <td>[{'item_id': '10', 'item_name': 'Counter-Strik...</td>\n",
       "    </tr>\n",
       "    <tr>\n",
       "      <th>4</th>\n",
       "      <td>doctr</td>\n",
       "      <td>541</td>\n",
       "      <td>76561198002099482</td>\n",
       "      <td>http://steamcommunity.com/id/doctr</td>\n",
       "      <td>[{'item_id': '300', 'item_name': 'Day of Defea...</td>\n",
       "    </tr>\n",
       "  </tbody>\n",
       "</table>\n",
       "</div>"
      ],
      "text/plain": [
       "             user_id  items_count           steam_id  \\\n",
       "0  76561197970982479          277  76561197970982479   \n",
       "1            js41637          888  76561198035864385   \n",
       "2          evcentric          137  76561198007712555   \n",
       "3         Riot-Punch          328  76561197963445855   \n",
       "4              doctr          541  76561198002099482   \n",
       "\n",
       "                                            user_url  \\\n",
       "0  http://steamcommunity.com/profiles/76561197970...   \n",
       "1               http://steamcommunity.com/id/js41637   \n",
       "2             http://steamcommunity.com/id/evcentric   \n",
       "3            http://steamcommunity.com/id/Riot-Punch   \n",
       "4                 http://steamcommunity.com/id/doctr   \n",
       "\n",
       "                                               items  \n",
       "0  [{'item_id': '10', 'item_name': 'Counter-Strik...  \n",
       "1  [{'item_id': '10', 'item_name': 'Counter-Strik...  \n",
       "2  [{'item_id': '1200', 'item_name': 'Red Orchest...  \n",
       "3  [{'item_id': '10', 'item_name': 'Counter-Strik...  \n",
       "4  [{'item_id': '300', 'item_name': 'Day of Defea...  "
      ]
     },
     "execution_count": 36,
     "metadata": {},
     "output_type": "execute_result"
    }
   ],
   "source": [
    "# Ruta del archivo comprimido\n",
    "comprimido_items = \"C:/Users/57315/OneDrive/Documentos/Phyton_Henry/proyecto individual 1/PI MLOps - STEAM/datasets_iniciales/users_items.json.gz\"\n",
    "\n",
    "# Listas para almacenar los datos\n",
    "items_data_list = []\n",
    "\n",
    "# Descomprime el archivo y procesa las líneas\n",
    "with gzip.open(comprimido_items, 'rb') as exp_items:\n",
    "    for line in exp_items:\n",
    "        try:\n",
    "            # Decodifica la línea utilizando UTF-8 y convierte a cadena\n",
    "            linea_decodificada = line.decode('utf-8').strip()\n",
    "\n",
    "            # Evalua la línea como una estructura de datos de Python\n",
    "            items_data = ast.literal_eval(linea_decodificada)\n",
    "\n",
    "            # Agrega los datos a la lista\n",
    "            items_data_list.append(items_data)\n",
    "\n",
    "        # Muestra mensaje de error cuando no sea posible ver la estructura, con numero de linea y detalles del error\n",
    "        except Exception as e:\n",
    "            print(f\"Error al evaluar la línea como estructura de datos: {linea_decodificada}\")\n",
    "            print(f\"Detalles del error: {e}\")\n",
    "\n",
    "# Crea un DataFrame de Dask a partir de la lista\n",
    "df_items = dd.from_pandas(pd.DataFrame(items_data_list), npartitions=10)  # Ajusta el número de particiones según tus necesidades\n",
    "\n",
    "df_items = df_items.dropna(how='all')\n",
    "\n",
    "# Computa y muestra el resultado\n",
    "df_items.compute().head()"
   ]
  },
  {
   "cell_type": "code",
   "execution_count": 37,
   "metadata": {},
   "outputs": [],
   "source": [
    "#Elimina las columnas que no necesitan para responder las consultas o preparar los modelos \n",
    "#de aprendizaje automático\n",
    "df_items = df_items.drop(columns=[ 'steam_id', 'user_url'])"
   ]
  },
  {
   "cell_type": "code",
   "execution_count": 38,
   "metadata": {},
   "outputs": [
    {
     "name": "stdout",
     "output_type": "stream",
     "text": [
      "Columnas con todos los valores nulos: Index([], dtype='string')\n"
     ]
    }
   ],
   "source": [
    "# Verifica las celdas con valores nulos\n",
    "nulos_por_celda_items = df_items.isnull()\n",
    "\n",
    "# Verifica si todas las celdas de cada columna son nulas\n",
    "columnas_con_nulos_items = nulos_por_celda_items.all()\n",
    "\n",
    "# Obtiene el nombre de las columnas con todos los valores nulos\n",
    "columnas_con_todos_nulos_items = columnas_con_nulos_items[columnas_con_nulos_items].index.compute()\n",
    "\n",
    "# Muestra las columnas con todos los valores nulos\n",
    "print(\"Columnas con todos los valores nulos:\", columnas_con_todos_nulos_items)"
   ]
  },
  {
   "cell_type": "code",
   "execution_count": 39,
   "metadata": {},
   "outputs": [],
   "source": [
    "#Elimina las filas duplicadas\n",
    "df_items = df_items.drop_duplicates()"
   ]
  },
  {
   "cell_type": "code",
   "execution_count": 40,
   "metadata": {},
   "outputs": [],
   "source": [
    "# Identificar duplicados en la columna 'user_id'\n",
    "df_items = df_items.drop_duplicates(subset='user_id')"
   ]
  },
  {
   "cell_type": "code",
   "execution_count": 41,
   "metadata": {},
   "outputs": [],
   "source": [
    "# Convierte el DataFrame de Dask a Pandas\n",
    "df_items_pandas = df_items.compute()"
   ]
  },
  {
   "cell_type": "code",
   "execution_count": 42,
   "metadata": {},
   "outputs": [],
   "source": [
    "#Crea un dataframe de la columna items\n",
    "col_items = df_items_pandas['items']"
   ]
  },
  {
   "cell_type": "code",
   "execution_count": 43,
   "metadata": {},
   "outputs": [
    {
     "name": "stdout",
     "output_type": "stream",
     "text": [
      "<class 'pandas.core.series.Series'>\n",
      "<class 'str'>\n"
     ]
    }
   ],
   "source": [
    "#Muestra la estructura del dataframe\n",
    "print(type(col_items))\n",
    "print(type(col_items[0]))"
   ]
  },
  {
   "cell_type": "code",
   "execution_count": 44,
   "metadata": {},
   "outputs": [
    {
     "data": {
      "text/plain": [
       "0        [{'item_id': '10', 'item_name': 'Counter-Strik...\n",
       "1        [{'item_id': '10', 'item_name': 'Counter-Strik...\n",
       "2        [{'item_id': '1200', 'item_name': 'Red Orchest...\n",
       "3        [{'item_id': '10', 'item_name': 'Counter-Strik...\n",
       "4        [{'item_id': '300', 'item_name': 'Day of Defea...\n",
       "                               ...                        \n",
       "88305    [{'item_id': '413850', 'item_name': 'CS:GO Pla...\n",
       "88306    [{'item_id': '11020', 'item_name': 'TrackMania...\n",
       "88307                                                   []\n",
       "88308    [{'item_id': '304930', 'item_name': 'Unturned'...\n",
       "88309                                                   []\n",
       "Name: items, Length: 87626, dtype: object"
      ]
     },
     "execution_count": 44,
     "metadata": {},
     "output_type": "execute_result"
    }
   ],
   "source": [
    "#Aplica la función convertir_list\n",
    "col_items_exp = col_items.apply(convertir_list)\n",
    "col_items_exp"
   ]
  },
  {
   "cell_type": "code",
   "execution_count": 45,
   "metadata": {},
   "outputs": [
    {
     "name": "stdout",
     "output_type": "stream",
     "text": [
      "<class 'pandas.core.series.Series'>\n",
      "<class 'list'>\n",
      "<class 'dict'>\n"
     ]
    }
   ],
   "source": [
    "# Muestra la estrutura del dataframe\n",
    "print(type(col_items_exp))\n",
    "print(type(col_items_exp[0]))\n",
    "print(type(col_items_exp[0][0]))"
   ]
  },
  {
   "cell_type": "code",
   "execution_count": 46,
   "metadata": {},
   "outputs": [
    {
     "data": {
      "text/plain": [
       "0        {'item_id': '10', 'item_name': 'Counter-Strike...\n",
       "0        {'item_id': '20', 'item_name': 'Team Fortress ...\n",
       "0        {'item_id': '30', 'item_name': 'Day of Defeat'...\n",
       "0        {'item_id': '40', 'item_name': 'Deathmatch Cla...\n",
       "0        {'item_id': '50', 'item_name': 'Half-Life: Opp...\n",
       "                               ...                        \n",
       "88308    {'item_id': '373330', 'item_name': 'All Is Dus...\n",
       "88308    {'item_id': '388490', 'item_name': 'One Way To...\n",
       "88308    {'item_id': '521570', 'item_name': 'You Have 1...\n",
       "88308    {'item_id': '519140', 'item_name': 'Minds Eyes...\n",
       "88309                                                  NaN\n",
       "Name: items, Length: 5110796, dtype: object"
      ]
     },
     "execution_count": 46,
     "metadata": {},
     "output_type": "execute_result"
    }
   ],
   "source": [
    "#Expande las filas, convierte cada elemento de lista en fila conservando el indice\n",
    "explode_col_items = col_items_exp.explode()\n",
    "explode_col_items"
   ]
  },
  {
   "cell_type": "code",
   "execution_count": 47,
   "metadata": {},
   "outputs": [
    {
     "name": "stdout",
     "output_type": "stream",
     "text": [
      "<class 'pandas.core.series.Series'>\n",
      "Index: 5110796 entries, 0 to 88309\n",
      "Series name: items\n",
      "Non-Null Count    Dtype \n",
      "--------------    ----- \n",
      "5094082 non-null  object\n",
      "dtypes: object(1)\n",
      "memory usage: 78.0+ MB\n"
     ]
    }
   ],
   "source": [
    "explode_col_items.info()"
   ]
  },
  {
   "cell_type": "code",
   "execution_count": 48,
   "metadata": {},
   "outputs": [
    {
     "name": "stdout",
     "output_type": "stream",
     "text": [
      "  item_id                  item_name playtime_forever playtime_2weeks\n",
      "0      10             Counter-Strike              6.0             0.0\n",
      "1      20      Team Fortress Classic              0.0             0.0\n",
      "2      30              Day of Defeat              7.0             0.0\n",
      "3      40         Deathmatch Classic              0.0             0.0\n",
      "4      50  Half-Life: Opposing Force              0.0             0.0\n"
     ]
    }
   ],
   "source": [
    "import pandas as pd\n",
    "from tqdm import tqdm\n",
    "from pandas import json_normalize\n",
    "\n",
    "# Supongamos que explode_col_items es tu Serie original\n",
    "# explode_col_items = ...\n",
    "\n",
    "# Aplica json_normalize para expandir los diccionarios en la Serie\n",
    "dicc_explode_col_items = json_normalize(explode_col_items)\n",
    "\n",
    "# Si quieres llenar los valores nulos con algún valor específico, puedes hacerlo:\n",
    "dicc_explode_col_items = dicc_explode_col_items.fillna(value='')\n",
    "\n",
    "# Muestra los primeros registros del resultado\n",
    "print(dicc_explode_col_items.head())"
   ]
  },
  {
   "cell_type": "code",
   "execution_count": 49,
   "metadata": {},
   "outputs": [],
   "source": [
    "#Crea una columna con el indice original\n",
    "indice_original = explode_col_items.index"
   ]
  },
  {
   "cell_type": "code",
   "execution_count": 50,
   "metadata": {},
   "outputs": [],
   "source": [
    "#Añande el indice original a los diccionarios expandidos\n",
    "dicc_explode_col_items['indice_original'] = indice_original"
   ]
  },
  {
   "cell_type": "code",
   "execution_count": 51,
   "metadata": {},
   "outputs": [
    {
     "data": {
      "text/html": [
       "<div>\n",
       "<style scoped>\n",
       "    .dataframe tbody tr th:only-of-type {\n",
       "        vertical-align: middle;\n",
       "    }\n",
       "\n",
       "    .dataframe tbody tr th {\n",
       "        vertical-align: top;\n",
       "    }\n",
       "\n",
       "    .dataframe thead th {\n",
       "        text-align: right;\n",
       "    }\n",
       "</style>\n",
       "<table border=\"1\" class=\"dataframe\">\n",
       "  <thead>\n",
       "    <tr style=\"text-align: right;\">\n",
       "      <th></th>\n",
       "      <th>item_id</th>\n",
       "      <th>item_name</th>\n",
       "      <th>playtime_forever</th>\n",
       "      <th>playtime_2weeks</th>\n",
       "      <th>indice_original</th>\n",
       "    </tr>\n",
       "  </thead>\n",
       "  <tbody>\n",
       "    <tr>\n",
       "      <th>5110791</th>\n",
       "      <td>373330</td>\n",
       "      <td>All Is Dust</td>\n",
       "      <td>0.0</td>\n",
       "      <td>0.0</td>\n",
       "      <td>88308</td>\n",
       "    </tr>\n",
       "    <tr>\n",
       "      <th>5110792</th>\n",
       "      <td>388490</td>\n",
       "      <td>One Way To Die: Steam Edition</td>\n",
       "      <td>3.0</td>\n",
       "      <td>3.0</td>\n",
       "      <td>88308</td>\n",
       "    </tr>\n",
       "    <tr>\n",
       "      <th>5110793</th>\n",
       "      <td>521570</td>\n",
       "      <td>You Have 10 Seconds 2</td>\n",
       "      <td>4.0</td>\n",
       "      <td>4.0</td>\n",
       "      <td>88308</td>\n",
       "    </tr>\n",
       "    <tr>\n",
       "      <th>5110794</th>\n",
       "      <td>519140</td>\n",
       "      <td>Minds Eyes</td>\n",
       "      <td>3.0</td>\n",
       "      <td>3.0</td>\n",
       "      <td>88308</td>\n",
       "    </tr>\n",
       "    <tr>\n",
       "      <th>5110795</th>\n",
       "      <td></td>\n",
       "      <td></td>\n",
       "      <td></td>\n",
       "      <td></td>\n",
       "      <td>88309</td>\n",
       "    </tr>\n",
       "  </tbody>\n",
       "</table>\n",
       "</div>"
      ],
      "text/plain": [
       "        item_id                      item_name playtime_forever  \\\n",
       "5110791  373330                    All Is Dust              0.0   \n",
       "5110792  388490  One Way To Die: Steam Edition              3.0   \n",
       "5110793  521570          You Have 10 Seconds 2              4.0   \n",
       "5110794  519140                     Minds Eyes              3.0   \n",
       "5110795                                                           \n",
       "\n",
       "        playtime_2weeks  indice_original  \n",
       "5110791             0.0            88308  \n",
       "5110792             3.0            88308  \n",
       "5110793             4.0            88308  \n",
       "5110794             3.0            88308  \n",
       "5110795                            88309  "
      ]
     },
     "execution_count": 51,
     "metadata": {},
     "output_type": "execute_result"
    }
   ],
   "source": [
    "dicc_explode_col_items.tail()"
   ]
  },
  {
   "cell_type": "code",
   "execution_count": 52,
   "metadata": {},
   "outputs": [
    {
     "data": {
      "text/html": [
       "<div>\n",
       "<style scoped>\n",
       "    .dataframe tbody tr th:only-of-type {\n",
       "        vertical-align: middle;\n",
       "    }\n",
       "\n",
       "    .dataframe tbody tr th {\n",
       "        vertical-align: top;\n",
       "    }\n",
       "\n",
       "    .dataframe thead th {\n",
       "        text-align: right;\n",
       "    }\n",
       "</style>\n",
       "<table border=\"1\" class=\"dataframe\">\n",
       "  <thead>\n",
       "    <tr style=\"text-align: right;\">\n",
       "      <th></th>\n",
       "      <th>user_id</th>\n",
       "      <th>items_count</th>\n",
       "    </tr>\n",
       "  </thead>\n",
       "  <tbody>\n",
       "    <tr>\n",
       "      <th>0</th>\n",
       "      <td>76561197970982479</td>\n",
       "      <td>277</td>\n",
       "    </tr>\n",
       "    <tr>\n",
       "      <th>1</th>\n",
       "      <td>js41637</td>\n",
       "      <td>888</td>\n",
       "    </tr>\n",
       "    <tr>\n",
       "      <th>2</th>\n",
       "      <td>evcentric</td>\n",
       "      <td>137</td>\n",
       "    </tr>\n",
       "    <tr>\n",
       "      <th>3</th>\n",
       "      <td>Riot-Punch</td>\n",
       "      <td>328</td>\n",
       "    </tr>\n",
       "    <tr>\n",
       "      <th>4</th>\n",
       "      <td>doctr</td>\n",
       "      <td>541</td>\n",
       "    </tr>\n",
       "  </tbody>\n",
       "</table>\n",
       "</div>"
      ],
      "text/plain": [
       "             user_id  items_count\n",
       "0  76561197970982479          277\n",
       "1            js41637          888\n",
       "2          evcentric          137\n",
       "3         Riot-Punch          328\n",
       "4              doctr          541"
      ]
     },
     "execution_count": 52,
     "metadata": {},
     "output_type": "execute_result"
    }
   ],
   "source": [
    "df_items_pandas = df_items_pandas.drop(columns=['items'])\n",
    "df_items_pandas.head()"
   ]
  },
  {
   "cell_type": "code",
   "execution_count": 53,
   "metadata": {},
   "outputs": [],
   "source": [
    "# Unir los DataFrames utilizando merge con how='right'\n",
    "items_combined = pd.merge(df_items_pandas, dicc_explode_col_items, left_index=True, right_on='indice_original', how='right')\n"
   ]
  },
  {
   "cell_type": "code",
   "execution_count": 54,
   "metadata": {},
   "outputs": [
    {
     "data": {
      "text/html": [
       "<div>\n",
       "<style scoped>\n",
       "    .dataframe tbody tr th:only-of-type {\n",
       "        vertical-align: middle;\n",
       "    }\n",
       "\n",
       "    .dataframe tbody tr th {\n",
       "        vertical-align: top;\n",
       "    }\n",
       "\n",
       "    .dataframe thead th {\n",
       "        text-align: right;\n",
       "    }\n",
       "</style>\n",
       "<table border=\"1\" class=\"dataframe\">\n",
       "  <thead>\n",
       "    <tr style=\"text-align: right;\">\n",
       "      <th></th>\n",
       "      <th>user_id</th>\n",
       "      <th>items_count</th>\n",
       "      <th>item_id</th>\n",
       "      <th>item_name</th>\n",
       "      <th>playtime_forever</th>\n",
       "      <th>playtime_2weeks</th>\n",
       "      <th>indice_original</th>\n",
       "    </tr>\n",
       "  </thead>\n",
       "  <tbody>\n",
       "    <tr>\n",
       "      <th>5110786</th>\n",
       "      <td>76561198326700687</td>\n",
       "      <td>177</td>\n",
       "      <td>521570</td>\n",
       "      <td>You Have 10 Seconds 2</td>\n",
       "      <td>0.0</td>\n",
       "      <td>0.0</td>\n",
       "      <td>88306</td>\n",
       "    </tr>\n",
       "    <tr>\n",
       "      <th>5110787</th>\n",
       "      <td>XxLaughingJackClown77xX</td>\n",
       "      <td>0</td>\n",
       "      <td></td>\n",
       "      <td></td>\n",
       "      <td></td>\n",
       "      <td></td>\n",
       "      <td>88307</td>\n",
       "    </tr>\n",
       "    <tr>\n",
       "      <th>5110788</th>\n",
       "      <td>76561198329548331</td>\n",
       "      <td>7</td>\n",
       "      <td>304930</td>\n",
       "      <td>Unturned</td>\n",
       "      <td>677.0</td>\n",
       "      <td>677.0</td>\n",
       "      <td>88308</td>\n",
       "    </tr>\n",
       "    <tr>\n",
       "      <th>5110789</th>\n",
       "      <td>76561198329548331</td>\n",
       "      <td>7</td>\n",
       "      <td>227940</td>\n",
       "      <td>Heroes &amp; Generals</td>\n",
       "      <td>43.0</td>\n",
       "      <td>43.0</td>\n",
       "      <td>88308</td>\n",
       "    </tr>\n",
       "    <tr>\n",
       "      <th>5110790</th>\n",
       "      <td>76561198329548331</td>\n",
       "      <td>7</td>\n",
       "      <td>346330</td>\n",
       "      <td>BrainBread 2</td>\n",
       "      <td>0.0</td>\n",
       "      <td>0.0</td>\n",
       "      <td>88308</td>\n",
       "    </tr>\n",
       "    <tr>\n",
       "      <th>5110791</th>\n",
       "      <td>76561198329548331</td>\n",
       "      <td>7</td>\n",
       "      <td>373330</td>\n",
       "      <td>All Is Dust</td>\n",
       "      <td>0.0</td>\n",
       "      <td>0.0</td>\n",
       "      <td>88308</td>\n",
       "    </tr>\n",
       "    <tr>\n",
       "      <th>5110792</th>\n",
       "      <td>76561198329548331</td>\n",
       "      <td>7</td>\n",
       "      <td>388490</td>\n",
       "      <td>One Way To Die: Steam Edition</td>\n",
       "      <td>3.0</td>\n",
       "      <td>3.0</td>\n",
       "      <td>88308</td>\n",
       "    </tr>\n",
       "    <tr>\n",
       "      <th>5110793</th>\n",
       "      <td>76561198329548331</td>\n",
       "      <td>7</td>\n",
       "      <td>521570</td>\n",
       "      <td>You Have 10 Seconds 2</td>\n",
       "      <td>4.0</td>\n",
       "      <td>4.0</td>\n",
       "      <td>88308</td>\n",
       "    </tr>\n",
       "    <tr>\n",
       "      <th>5110794</th>\n",
       "      <td>76561198329548331</td>\n",
       "      <td>7</td>\n",
       "      <td>519140</td>\n",
       "      <td>Minds Eyes</td>\n",
       "      <td>3.0</td>\n",
       "      <td>3.0</td>\n",
       "      <td>88308</td>\n",
       "    </tr>\n",
       "    <tr>\n",
       "      <th>5110795</th>\n",
       "      <td>edward_tremethick</td>\n",
       "      <td>0</td>\n",
       "      <td></td>\n",
       "      <td></td>\n",
       "      <td></td>\n",
       "      <td></td>\n",
       "      <td>88309</td>\n",
       "    </tr>\n",
       "  </tbody>\n",
       "</table>\n",
       "</div>"
      ],
      "text/plain": [
       "                         user_id  items_count item_id  \\\n",
       "5110786        76561198326700687          177  521570   \n",
       "5110787  XxLaughingJackClown77xX            0           \n",
       "5110788        76561198329548331            7  304930   \n",
       "5110789        76561198329548331            7  227940   \n",
       "5110790        76561198329548331            7  346330   \n",
       "5110791        76561198329548331            7  373330   \n",
       "5110792        76561198329548331            7  388490   \n",
       "5110793        76561198329548331            7  521570   \n",
       "5110794        76561198329548331            7  519140   \n",
       "5110795        edward_tremethick            0           \n",
       "\n",
       "                             item_name playtime_forever playtime_2weeks  \\\n",
       "5110786          You Have 10 Seconds 2              0.0             0.0   \n",
       "5110787                                                                   \n",
       "5110788                       Unturned            677.0           677.0   \n",
       "5110789              Heroes & Generals             43.0            43.0   \n",
       "5110790                   BrainBread 2              0.0             0.0   \n",
       "5110791                    All Is Dust              0.0             0.0   \n",
       "5110792  One Way To Die: Steam Edition              3.0             3.0   \n",
       "5110793          You Have 10 Seconds 2              4.0             4.0   \n",
       "5110794                     Minds Eyes              3.0             3.0   \n",
       "5110795                                                                   \n",
       "\n",
       "         indice_original  \n",
       "5110786            88306  \n",
       "5110787            88307  \n",
       "5110788            88308  \n",
       "5110789            88308  \n",
       "5110790            88308  \n",
       "5110791            88308  \n",
       "5110792            88308  \n",
       "5110793            88308  \n",
       "5110794            88308  \n",
       "5110795            88309  "
      ]
     },
     "execution_count": 54,
     "metadata": {},
     "output_type": "execute_result"
    }
   ],
   "source": [
    "\n",
    "# Mostrar el resultado\n",
    "items_combined.tail(10)\n"
   ]
  },
  {
   "cell_type": "code",
   "execution_count": 55,
   "metadata": {},
   "outputs": [],
   "source": [
    "#Elimina la columna indice de pandas\n",
    "items_combined = items_combined.set_index('indice_original')"
   ]
  },
  {
   "cell_type": "code",
   "execution_count": 56,
   "metadata": {},
   "outputs": [],
   "source": [
    "# Convertir la columna a tipo numérico\n",
    "items_combined['playtime_forever'] = pd.to_numeric(items_combined['playtime_forever'], errors='coerce')\n",
    "items_combined['playtime_2weeks'] = pd.to_numeric(items_combined['playtime_2weeks'], errors='coerce')\n"
   ]
  },
  {
   "cell_type": "markdown",
   "metadata": {},
   "source": [
    "## Cambio de tipo de archivo"
   ]
  },
  {
   "cell_type": "markdown",
   "metadata": {},
   "source": [
    "steam_games"
   ]
  },
  {
   "cell_type": "code",
   "execution_count": 57,
   "metadata": {},
   "outputs": [],
   "source": [
    "# Guarda el dataset resultante en formato Parquet\n",
    "games_combined.to_parquet('C:/Users/57315/OneDrive/Documentos/Phyton_Henry/proyecto individual 1/PI MLOps - STEAM/datasets_limpios/df_games.parquet.gzip', compression='gzip', engine='pyarrow')"
   ]
  },
  {
   "cell_type": "markdown",
   "metadata": {},
   "source": [
    "user_reviews"
   ]
  },
  {
   "cell_type": "code",
   "execution_count": 58,
   "metadata": {},
   "outputs": [],
   "source": [
    "# Guarda el dataset resultante en formato Parquet\n",
    "reviews_combined.to_parquet('C:/Users/57315/OneDrive/Documentos/Phyton_Henry/proyecto individual 1/PI MLOps - STEAM/datasets_limpios/df_reviews.parquet.gzip', compression='gzip', engine='pyarrow')"
   ]
  },
  {
   "cell_type": "markdown",
   "metadata": {},
   "source": [
    "user_items"
   ]
  },
  {
   "cell_type": "code",
   "execution_count": 59,
   "metadata": {},
   "outputs": [],
   "source": [
    "# Guarda el dataset resultante en formato Parquet\n",
    "items_combined.to_parquet('C:/Users/57315/OneDrive/Documentos/Phyton_Henry/proyecto individual 1/PI MLOps - STEAM/datasets_limpios/df_items.parquet.gzip', compression='gzip', engine='pyarrow')"
   ]
  }
 ],
 "metadata": {
  "kernelspec": {
   "display_name": "Python 3",
   "language": "python",
   "name": "python3"
  },
  "language_info": {
   "codemirror_mode": {
    "name": "ipython",
    "version": 3
   },
   "file_extension": ".py",
   "mimetype": "text/x-python",
   "name": "python",
   "nbconvert_exporter": "python",
   "pygments_lexer": "ipython3",
   "version": "3.10.4"
  },
  "orig_nbformat": 4
 },
 "nbformat": 4,
 "nbformat_minor": 2
}
